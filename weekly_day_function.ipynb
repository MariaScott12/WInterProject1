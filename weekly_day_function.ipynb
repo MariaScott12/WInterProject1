{
 "cells": [
  {
   "cell_type": "code",
   "execution_count": null,
   "metadata": {},
   "outputs": [],
   "source": [
    "def get_weekly_date(start_date,end_date):  \n",
    "    '''\n",
    "    Given a start date and an end date, this function will put \n",
    "    out a list of dates that are one week apart, starting with\n",
    "    the start date.  \n",
    "    \n",
    "    The start date is bigger than end date \n",
    "    \n",
    "    The input takes this format(YYYYMMDD)\n",
    "    The output prints this format(YYMMDD)\n",
    "    \n",
    "    '''\n",
    "    from datetime import datetime\n",
    "    from datetime import timedelta\n",
    "    \n",
    "    #convert string to datetime objects\n",
    "    start = datetime.strptime(start_date,'%Y%m%d').date()\n",
    "    end = datetime.strptime(end_date,'%Y%m%d').date()\n",
    "    \n",
    "    #find the difference between two dates\n",
    "    diff = end-start\n",
    "    #convert difference(datetime obj) into integer obj\n",
    "    duration = diff.days\n",
    "    \n",
    "    weekly_list = []\n",
    "    #create a list of 7 days interval\n",
    "    interval_list = list(range(0,duration,7))\n",
    "    \n",
    "    for i in interval_list:\n",
    "        weekly = start + timedelta(days=i) # add a week into start date\n",
    "        weekly_str = weekly.strftime('%Y%m%d')#convert datetime to string\n",
    "        weekly_list.append(weekly_str)\n",
    "    \n",
    "    #truncate frist two numbers from each element of the list\n",
    "    weekly_list2 = list(map(lambda x: x[2:],weekly_list))\n",
    "        \n",
    "    return weekly_list2\n",
    "  \n",
    "    "
   ]
  }
 ],
 "metadata": {
  "kernelspec": {
   "display_name": "Python [conda env:metis] *",
   "language": "python",
   "name": "conda-env-metis-py"
  },
  "language_info": {
   "codemirror_mode": {
    "name": "ipython",
    "version": 3
   },
   "file_extension": ".py",
   "mimetype": "text/x-python",
   "name": "python",
   "nbconvert_exporter": "python",
   "pygments_lexer": "ipython3",
   "version": "3.7.4"
  }
 },
 "nbformat": 4,
 "nbformat_minor": 2
}
